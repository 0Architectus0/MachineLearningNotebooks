{
  "cells": [
      {
      "cell_type": "markdown",
      "metadata": {},
      "source": [
        "![Impressions](https://PixelServer20190423114238.azurewebsites.net/api/impressions/MachineLearningNotebooks/how-to-use-azureml/automated-machine-learning/classification-bank-marketing/auto-ml-classification-bank-marketing.png)"
      ]
    },
    {
      "cell_type": "markdown",
      "metadata": {},
      "source": [
        "Copyright (c) Microsoft Corporation. All rights reserved.\n",
        "\n",
        "Licensed under the MIT License."
      ]
    },  
    {
      "cell_type": "markdown",
      "metadata": {},
      "source": [
        "# Unique Descriptive Title\n",
        "_**Unique Subtitle**_\n",
        "\n",
        "Introduction that describes in a customer friendly language, what they will do and accomplish.\n".
        "## Contents\n",
        "1. [Introduction](#Introduction)\n",
        "1. [Prerequisites](#Prerequisites)\n",
        "1. [Configuration and Setup](#Setup)\n",
        "1. [Working with Data](#Working with Data)\n",
        "1. [Training](#Training)\n",
        "1. [Productionizing](#Productionizing)\n",
        "1. [Model Monitoring](#Model Monitoring)\n",
        "1. [Clean up resources](#Clean up resources)\n",
        "1. [Next Steps](#Next Steps)\n",
        "1. [Acknowledgements](#Acknowledgements)"
      ]
    },
      {
      "cell_type": "markdown",
      "metadata": {},
      "source": [
        "## Configuration\n",
        "\n",
        "If you are using an Azure Machine Learning Compute Instance, you are all set.  Otherwise, go through the [configuration](../../../configuration.ipynb)  notebook first if you haven't already to establish your connection to the AzureML Workspace. \n",
        "Please note that a Basic edition workspace is created by default in the configuration.ipynb file.\n",
      ]
    },
    {
      "cell_type": "markdown",
      "metadata": {},
      "source": [
        "## Setup\n",
        "\n",
        "As part of the setup you have already created an Azure ML `Workspace` object....\n",
    },
    {
      "cell_type": "code",
      "execution_count": null,
      "metadata": {},
      "outputs": [],
      "source": [
        "import azureml.core\n",
      ]
    },
    {
      "cell_type": "code",
      "execution_count": null,
      "metadata": {},
      "outputs": [],
      "source": [
        "tenant_id = os.environ['TENANT_ID’]\n",
        "client_id = os.environ['CLIENT_ID’]\n",
        "run = Run.get_context()\n",
        "secret_name = “{0}-secret”.format(client_id)\n",
        "secret = run.get_secret(name=secret_name)\n",
        "sp_auth = ServicePrincipalAuthentication(tenant_id, client_id, secret)\n",
        "ws = Workspace.from_config(auth=sp_auth)\n",  
        "\n",
        "# choose a unique name for experiment\n",
        "experiment_name = 'unique-name'\n",
        "# project folder\n",
        "project_folder = './sample_projects/test'\n",
        "\n",
        "experiment=Experiment(ws, experiment_name)\n",
        "\n",
      ]
    },
    {
      "cell_type": "markdown",
      "metadata": {},
      "source": [
        "## Create or Attach existing AmlCompute\n",
        "You will need to create a compute target for your run. In this tutorial, you create AmlCompute as your training compute resource.\n",
        "#### Creation of AmlCompute takes approximately 5 minutes. \n",
        "If the AmlCompute with that name is already in your workspace this code will skip the creation process.\n",
        "As with other Azure services, there are limits on certain resources (e.g. AmlCompute) associated with the Azure Machine Learning service. Please read this article on the default limits and how to request more quota."
      ]
    },
    {
      "cell_type": "markdown",
      "metadata": {},
      "source": [
        "# Working with Data\n",
        "\n",
        "Here you would learn how to perform Data labeling and use Open Datasets etc..\n",
        "To do this first load....\n",
      ]
    },
    {
      "cell_type": "markdown",
      "metadata": {},
      "source": [
        "## Training\n",
        "\n",
        "Here you would learn how to train a DNN using...\n",
      ]
    },
     {
      "cell_type": "markdown",
      "metadata": {},
      "source": [
        "# Productionizing\n",
        "\n",
        "Here you would learn how to deploy your model to ACI to perform...\n",
      ]
    },
     {
      "cell_type": "markdown",
      "metadata": {},
      "source": [
        "# Model Monitoring\n",
        "\n",
        "Here you would learn how to detect datadrift etc...\n",
      ]
    },
     {
      "cell_type": "markdown",
      "metadata": {},
      "source": [
        "# Clean up resources\n",
        "\n",
        "Now, let's clean up the resources we created...\n",
      ]
    },
     {
      "cell_type": "markdown",
      "metadata": {},
      "source": [
        "# Next Steps\n",
        "\n",
        "In this notebook, you’ve done x, y, z. You can learn more with these resources:\n",
        "+ [SDK reference documentation for `MyClass`]()\n",
        "+ [About this feature](https://docs.microsoft.com/azure/machine-learning/service/thisfeature)\n", 
      ]
    },
    {
      "cell_type": "markdown",
      "metadata": {},
      "source": [
        "This dataset is made available under the Creative Commons (CCO: Public Domain) License: https://creativecommons.org/publicdomain/zero/1.0/. Any rights in individual contents of the database are licensed under the Database Contents License: https://creativecommons.org/publicdomain/zero/1.0/ and is available at: https://www.kaggle.com/janiobachmann/bank-marketing-dataset .\n",
        "\n",
        "_**Acknowledgements**_\n",
        "This dataset is originally available within the UCI Machine Learning Database: https://archive.ics.uci.edu/ml/datasets/bank+marketing\n",
        "\n",
        "[Moro et al., 2014] S. Moro, P. Cortez and P. Rita. A Data-Driven Approach to Predict the Success of Bank Telemarketing. Decision Support Systems, Elsevier, 62:22-31, June 2014"
      ]
    }
  ],
  "metadata": {
    "authors": [
      {
        "name": "YOUR ALIAS"
      }
    ],    
    "category": "tutorial",
    "compute": [
      "AML Compute"
    ],
    "datasets": [
      "MNIST"
    ],
    "deployment": [
      "AKS"
    ],
    "exclude_from_index": false,
    "framework": [
      "PyTorch"
    ],
    "friendly_name": "How to use ModuleStep with AML Pipelines",
    },
    "order_index": 14,
    "star_tag": [],
    "tags": [
      "Pipeline Builder"
    ],
    "task": "Demonstrates the use of ModuleStep"
  },
    "kernelspec": {
      "display_name": "Python 3.6",
      "language": "python",
      "name": "python36"
    },
    "language_info": {
      "codemirror_mode": {
        "name": "ipython",
        "version": 3
      },
      "file_extension": ".py",
      "mimetype": "text/x-python",
      "name": "python",
      "nbconvert_exporter": "python",
      "pygments_lexer": "ipython3",
      "version": "3.6.7"
    }
  },
  "nbformat": 4,
  "nbformat_minor": 2
}
    
    
    
 
