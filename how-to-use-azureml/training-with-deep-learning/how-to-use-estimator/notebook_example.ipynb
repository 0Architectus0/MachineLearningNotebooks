{
  "metadata": {
    "kernelspec": {
      "display_name": "Python 3.6",
      "name": "python36",
      "language": "python"
    },
    "msauthor": "jingywa",
    "authors": [
      {
        "name": "jingywa"
      }
    ],
    "language_info": {
      "mimetype": "text/x-python",
      "codemirror_mode": {
        "name": "ipython",
        "version": 3
      },
      "pygments_lexer": "ipython3",
      "name": "python",
      "file_extension": ".py",
      "nbconvert_exporter": "python",
      "version": "3.6.8"
    }
  },
  "nbformat": 4,
  "cells": [
    {
      "metadata": {},
      "source": [
        "Copyright (c) Microsoft Corporation. All rights reserved.\n",
        "\n",
        "Licensed under the MIT License."
      ],
      "cell_type": "markdown"
    },
    {
      "metadata": {},
      "outputs": [],
      "execution_count": null,
      "source": [
        "import scrapbook as sb\n",
        "sb.glue('Fibonacci numbers', [0, 1, 1, 2, 3, 5, 8, 13, 21, 34])"
      ],
      "cell_type": "code"
    },
    {
      "metadata": {},
      "outputs": [],
      "execution_count": null,
      "source": [],
      "cell_type": "code"
    }
  ],
  "nbformat_minor": 2
}